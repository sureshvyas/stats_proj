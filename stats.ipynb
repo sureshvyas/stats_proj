{
  "nbformat": 4,
  "nbformat_minor": 0,
  "metadata": {
    "colab": {
      "name": "stats.ipynb",
      "provenance": []
    },
    "kernelspec": {
      "name": "python3",
      "display_name": "Python 3"
    }
  },
  "cells": [
    {
      "cell_type": "markdown",
      "metadata": {
        "id": "mj-JDV2LrX-9",
        "colab_type": "text"
      },
      "source": [
        "**Z-Distribution**"
      ]
    },
    {
      "cell_type": "code",
      "metadata": {
        "id": "LoY1V8eulJRa",
        "colab_type": "code",
        "colab": {}
      },
      "source": [
        "from scipy import stats as st"
      ],
      "execution_count": 0,
      "outputs": []
    },
    {
      "cell_type": "code",
      "metadata": {
        "id": "tGEPLGkri4If",
        "colab_type": "code",
        "outputId": "d0b65b82-4464-4d7d-ae10-abda1a87aa08",
        "colab": {
          "base_uri": "https://localhost:8080/",
          "height": 51
        }
      },
      "source": [
        "Z0=float(input(\"Enter the input value for unit distribution: \"))\n",
        "print(f\"probability P(Z<=Z0) for input {Z0} is : {st.norm.cdf(Z0)}\")"
      ],
      "execution_count": 2,
      "outputs": [
        {
          "output_type": "stream",
          "text": [
            "Enter the input value for unit distribution: 2.0\n",
            "probability P(Z<=Z0) for input 2.0 is : 0.9772498680518208\n"
          ],
          "name": "stdout"
        }
      ]
    },
    {
      "cell_type": "code",
      "metadata": {
        "id": "mB2lmOPyokWH",
        "colab_type": "code",
        "outputId": "30d51a9c-8808-4bb5-c0f7-48daa8639d38",
        "colab": {
          "base_uri": "https://localhost:8080/",
          "height": 51
        }
      },
      "source": [
        "alpha=float(input(\"Enter the Score value for unit distribution: \"))\n",
        "print(f\"value of Z0 for which P(Z<=Z0)={alpha} is : {st.norm.ppf(alpha)}\")"
      ],
      "execution_count": 0,
      "outputs": [
        {
          "output_type": "stream",
          "text": [
            "Enter the Score value for unit distribution: 0.9772498\n",
            "value of Z0 for which P(Z<=Z0)=0.9772498 is : 1.9999987395718308\n"
          ],
          "name": "stdout"
        }
      ]
    },
    {
      "cell_type": "markdown",
      "metadata": {
        "id": "DjPanLAKqNb3",
        "colab_type": "text"
      },
      "source": [
        "**Chi-square Distribution**"
      ]
    },
    {
      "cell_type": "code",
      "metadata": {
        "id": "yfo3rYJ27-XO",
        "colab_type": "code",
        "outputId": "2ee4a4cb-de6f-4952-8cf0-34b967b56bc9",
        "colab": {
          "base_uri": "https://localhost:8080/",
          "height": 68
        }
      },
      "source": [
        "y0=float(input(\"Enter the input value for chisquare distribution: \"))\n",
        "dof=int(input(\"Enter degree of freedom: \"))\n",
        "chipro=st.chi2.cdf(y0,dof)\n",
        "print(f\"Chisquare probability for {y0} is: {chipro}\")"
      ],
      "execution_count": 0,
      "outputs": [
        {
          "output_type": "stream",
          "text": [
            "Enter the input value for chisquare distribution: 3.84\n",
            "Enter degree of freedom: 1\n",
            "Chisquare probability for 3.84 is: 0.9499564787512949\n"
          ],
          "name": "stdout"
        }
      ]
    },
    {
      "cell_type": "code",
      "metadata": {
        "id": "TczD-vSwMVil",
        "colab_type": "code",
        "outputId": "2ffead7b-79d0-4445-ae49-894e16746475",
        "colab": {
          "base_uri": "https://localhost:8080/",
          "height": 68
        }
      },
      "source": [
        "alpha=float(input(\"Enter the Score value for chisquare distribution: \"))\n",
        "dof=int(input(\"Enter degree of freedom: \"))\n",
        "y0=st.chi2.ppf(alpha,dof) \n",
        "print(f\"Value of y0 for which chisquare probability is equal to {alpha}: {Z0}\")"
      ],
      "execution_count": 0,
      "outputs": [
        {
          "output_type": "stream",
          "text": [
            "Enter the Score value for chisquare distribution: 0.9499564787512949\n",
            "Enter degree of freedom: 1\n",
            "Value of y0 for which chisquare probability is equal to 0.9499564787512949: 3.8399999999999994\n"
          ],
          "name": "stdout"
        }
      ]
    },
    {
      "cell_type": "markdown",
      "metadata": {
        "id": "fXSehxIfqFPk",
        "colab_type": "text"
      },
      "source": [
        "**T-Distribution**"
      ]
    },
    {
      "cell_type": "code",
      "metadata": {
        "id": "NDqDGPDWohsZ",
        "colab_type": "code",
        "outputId": "7932b97c-2ace-4bc6-b6a3-c2f481b39feb",
        "colab": {
          "base_uri": "https://localhost:8080/",
          "height": 68
        }
      },
      "source": [
        "t0=float(input(\"Enter input value for T-distribution: \"))\n",
        "dof=int(input(\"Enter degree of freedom: \"))\n",
        "tprob=st.t.cdf(t0,dof)\n",
        "print(f\"probability of T<=T0 is: {tprob}\")"
      ],
      "execution_count": 0,
      "outputs": [
        {
          "output_type": "stream",
          "text": [
            "Enter input value for T-distribution: 3.2\n",
            "Enter degree of freedom: 3\n",
            "0.9753340785186518\n"
          ],
          "name": "stdout"
        }
      ]
    },
    {
      "cell_type": "code",
      "metadata": {
        "id": "ZF7Ja-XaP_tH",
        "colab_type": "code",
        "outputId": "f5bca246-f6b7-44e3-f39a-d00142eecd71",
        "colab": {
          "base_uri": "https://localhost:8080/",
          "height": 68
        }
      },
      "source": [
        "alpha=float(input(\"Enter T-score for T-distribution: \"))\n",
        "dof=int(input(\"Enter degree of freedom: \"))\n",
        "t0=st.t.ppf(alpha,dof)\n",
        "print(f\"Value of T0 for which P(T<=T0)={alpha} is: {t0}\")"
      ],
      "execution_count": 0,
      "outputs": [
        {
          "output_type": "stream",
          "text": [
            "Enter T-score for T-distribution: 0.975334078\n",
            "Enter degree of freedom: 3\n",
            "Value of T0 for which P(T<=T0)=0.975334078 is: 3.199999972515978\n"
          ],
          "name": "stdout"
        }
      ]
    },
    {
      "cell_type": "markdown",
      "metadata": {
        "id": "1R_VIRPHQfbl",
        "colab_type": "text"
      },
      "source": [
        "**F-Distribution**"
      ]
    },
    {
      "cell_type": "code",
      "metadata": {
        "id": "sd9vs3L5Qe9M",
        "colab_type": "code",
        "outputId": "c846b133-829c-4baa-857e-9d68ba40e9aa",
        "colab": {
          "base_uri": "https://localhost:8080/",
          "height": 85
        }
      },
      "source": [
        "F0=float(input(\"Enter value for F-distribution: \"))\n",
        "dof1=int(input(\"Enter degree of freedom v1: \"))\n",
        "dof2=int(input(\"Enter degree of freedom v2: \"))\n",
        "fprob=st.f.cdf(F0,dof1,dof2)\n",
        "print(f\"probability of F<=F0 is: {fprob}\")"
      ],
      "execution_count": 0,
      "outputs": [
        {
          "output_type": "stream",
          "text": [
            "Enter value for F-distribution: 16.2\n",
            "Enter degree of freedom v1: 5\n",
            "Enter degree of freedom v2: 5\n",
            "probability of F<=F0 is: 0.9958449731686095\n"
          ],
          "name": "stdout"
        }
      ]
    },
    {
      "cell_type": "code",
      "metadata": {
        "id": "wgnSfbaNR4_n",
        "colab_type": "code",
        "outputId": "3f2635d1-9124-4465-c45d-bfc21278d58c",
        "colab": {
          "base_uri": "https://localhost:8080/",
          "height": 85
        }
      },
      "source": [
        "alpha=float(input(\"Enter f-score: \"))\n",
        "dof1=int(input(\"Enter degree of freedom v1: \"))\n",
        "dof2=int(input(\"Enter degree of freedom v2: \"))\n",
        "z0=st.f.cdf(alpha,dof1,dof2)\n",
        "print(f\"probability of F<=F0 is: {F0}\")"
      ],
      "execution_count": 0,
      "outputs": [
        {
          "output_type": "stream",
          "text": [
            "Enter f-score: 0.9958449731686095\n",
            "Enter degree of freedom v1: 5\n",
            "Enter degree of freedom v2: 5\n",
            "probability of F<=F0 is: 16.2\n"
          ],
          "name": "stdout"
        }
      ]
    }
  ]
}